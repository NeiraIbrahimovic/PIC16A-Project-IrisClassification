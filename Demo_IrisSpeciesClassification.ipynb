{
 "cells": [
  {
   "cell_type": "markdown",
   "id": "ff0ae236-1c13-4e0f-b1a9-376233cd3c73",
   "metadata": {},
   "source": [
    "## Iris Species Classification Project\n",
    "\n",
    "### Contributors: "
   ]
  },
  {
   "cell_type": "markdown",
   "id": "feb16919-95b4-40d9-8f6b-bb63670663d9",
   "metadata": {},
   "source": [
    "#### Goal"
   ]
  },
  {
   "cell_type": "markdown",
   "id": "78a9cd32-51cb-4bec-8cb8-4a6fd9864b8f",
   "metadata": {},
   "source": [
    "The aim of this project is to create a model that can predict an iris flower species based on a combination of features."
   ]
  },
  {
   "cell_type": "markdown",
   "id": "779ed9a1-4971-4bf6-92cd-12f7196e0891",
   "metadata": {},
   "source": [
    "#### Importing the Data"
   ]
  },
  {
   "cell_type": "markdown",
   "id": "5aaada47-22c4-4538-a4f2-ad801547edad",
   "metadata": {},
   "source": [
    "#### Exploring the Data"
   ]
  },
  {
   "cell_type": "markdown",
   "id": "b5f19897-8cce-4da0-9841-d7a2db7f1583",
   "metadata": {},
   "source": [
    "Include summary table, plots, and discussion of functions used to generate them."
   ]
  },
  {
   "cell_type": "markdown",
   "id": "af709d47-1e7c-4e27-9862-a2ffc360170a",
   "metadata": {},
   "source": [
    "#### Creating our own decision tree function"
   ]
  },
  {
   "cell_type": "markdown",
   "id": "cf522d43-4e2d-4cbd-8b42-96f9f9e31657",
   "metadata": {},
   "source": [
    "- include max_min function\n",
    "- discussion of best params for each species\n",
    "- show screenshot of decision_tree code"
   ]
  },
  {
   "cell_type": "markdown",
   "id": "40144e7c-734b-46e7-97e2-a7cd218e5a4c",
   "metadata": {},
   "source": [
    "#### Testing our Function"
   ]
  },
  {
   "cell_type": "markdown",
   "id": "6f922dca-87b3-4d8f-b7e8-c39edff1a1c8",
   "metadata": {},
   "source": [
    "- demo of decision_tree, using diff params\n",
    "- define score function and run it"
   ]
  },
  {
   "cell_type": "markdown",
   "id": "cbf10f36-8024-4bb7-85f9-a7e86a20411c",
   "metadata": {},
   "source": [
    "#### Comparing our decision tree function to the computer generated decision tree"
   ]
  },
  {
   "cell_type": "markdown",
   "id": "9d08deaf-fdfd-4537-bb23-a21d2558c4e7",
   "metadata": {},
   "source": [
    "- test computerDecisionTree() and compare results"
   ]
  },
  {
   "cell_type": "markdown",
   "id": "7ca49dab-b878-4003-a0d5-4d1dd6a0828f",
   "metadata": {},
   "source": [
    "#### Conclusion"
   ]
  },
  {
   "cell_type": "code",
   "execution_count": null,
   "id": "163a2d17-f1e3-4962-b625-f4e3c9bb0969",
   "metadata": {},
   "outputs": [],
   "source": []
  },
  {
   "cell_type": "code",
   "execution_count": null,
   "id": "ae623628-45e5-4ae0-8721-c39ce3df30a2",
   "metadata": {},
   "outputs": [],
   "source": []
  },
  {
   "cell_type": "code",
   "execution_count": null,
   "id": "bada3213-1a39-44ec-b766-b96f544d7f1b",
   "metadata": {},
   "outputs": [],
   "source": []
  }
 ],
 "metadata": {
  "kernelspec": {
   "display_name": "Python 3 (ipykernel)",
   "language": "python",
   "name": "python3"
  },
  "language_info": {
   "codemirror_mode": {
    "name": "ipython",
    "version": 3
   },
   "file_extension": ".py",
   "mimetype": "text/x-python",
   "name": "python",
   "nbconvert_exporter": "python",
   "pygments_lexer": "ipython3",
   "version": "3.9.12"
  }
 },
 "nbformat": 4,
 "nbformat_minor": 5
}
